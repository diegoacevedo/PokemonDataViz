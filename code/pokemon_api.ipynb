{
 "cells": [
  {
   "cell_type": "code",
   "execution_count": 6,
   "metadata": {},
   "outputs": [],
   "source": [
    "import pandas as pd\n",
    "import requests as req\n",
    "import numpy as np"
   ]
  },
  {
   "cell_type": "code",
   "execution_count": 12,
   "metadata": {},
   "outputs": [],
   "source": [
    "\n",
    "url = \"https://pokemon-go1.p.rapidapi.com/pokemon_types.json\"\n",
    "\n",
    "headers = {\n",
    "\t\"X-RapidAPI-Host\": \"pokemon-go1.p.rapidapi.com\",\n",
    "\t\"X-RapidAPI-Key\": \"28926dac64msh6173833084cd432p12f04bjsna8ec1d4882cd\"\n",
    "}\n",
    "\n",
    "response = req.get( url, headers=headers).json()"
   ]
  },
  {
   "cell_type": "code",
   "execution_count": 14,
   "metadata": {},
   "outputs": [],
   "source": [
    "df_pokemon=pd.json_normalize(response)"
   ]
  },
  {
   "cell_type": "code",
   "execution_count": 15,
   "metadata": {},
   "outputs": [
    {
     "name": "stdout",
     "output_type": "stream",
     "text": [
      "              form  pokemon_id pokemon_name              type\n",
      "0        Fall_2019           1    Bulbasaur   [Grass, Poison]\n",
      "1           Normal           1    Bulbasaur   [Grass, Poison]\n",
      "2           Normal           2      Ivysaur   [Grass, Poison]\n",
      "3        Copy_2019           3     Venusaur   [Grass, Poison]\n",
      "4           Normal           3     Venusaur   [Grass, Poison]\n",
      "...            ...         ...          ...               ...\n",
      "1092        Normal         896    Glastrier             [Ice]\n",
      "1093        Normal         897    Spectrier           [Ghost]\n",
      "1094     Ice_rider         898      Calyrex    [Psychic, Ice]\n",
      "1095        Normal         898      Calyrex  [Psychic, Grass]\n",
      "1096  Shadow_rider         898      Calyrex  [Psychic, Ghost]\n",
      "\n",
      "[1097 rows x 4 columns]\n"
     ]
    }
   ],
   "source": [
    "print(df_pokemon)"
   ]
  },
  {
   "cell_type": "code",
   "execution_count": 49,
   "metadata": {},
   "outputs": [],
   "source": [
    "lista=[]\n",
    "for i  in df_pokemon['type']:\n",
    "    lista.append(i[0])"
   ]
  },
  {
   "cell_type": "code",
   "execution_count": 43,
   "metadata": {},
   "outputs": [
    {
     "data": {
      "text/plain": [
       "2"
      ]
     },
     "execution_count": 43,
     "metadata": {},
     "output_type": "execute_result"
    }
   ],
   "source": [
    "len(df_pokemon['type'][0])"
   ]
  },
  {
   "cell_type": "code",
   "execution_count": 51,
   "metadata": {},
   "outputs": [],
   "source": [
    "df_pokemon['type1']=lista\n"
   ]
  },
  {
   "cell_type": "code",
   "execution_count": 59,
   "metadata": {},
   "outputs": [],
   "source": [
    "lista2=[]\n",
    "for i  in df_pokemon['type']:\n",
    "    if len(i) ==2:\n",
    "        lista2.append(i[1])\n",
    "    else:\n",
    "        lista2.append(None)"
   ]
  },
  {
   "cell_type": "code",
   "execution_count": 61,
   "metadata": {},
   "outputs": [],
   "source": [
    "df_pokemon['type2']=lista2"
   ]
  },
  {
   "cell_type": "code",
   "execution_count": 63,
   "metadata": {},
   "outputs": [
    {
     "name": "stderr",
     "output_type": "stream",
     "text": [
      "C:\\Users\\UTP\\AppData\\Local\\Temp/ipykernel_28996/1053487099.py:1: FutureWarning: In a future version of pandas all arguments of DataFrame.drop except for the argument 'labels' will be keyword-only\n",
      "  df_pokemon = df_pokemon.drop('type',1)\n"
     ]
    }
   ],
   "source": [
    "df_pokemon = df_pokemon.drop('type',1)"
   ]
  },
  {
   "cell_type": "code",
   "execution_count": 67,
   "metadata": {},
   "outputs": [],
   "source": [
    "df_pokemon.to_csv('data.csv',index=False)"
   ]
  }
 ],
 "metadata": {
  "interpreter": {
   "hash": "fd782a92e6164bb7e5e7b1aca2d9b4d285e01115cfbc79932c2eb0effab3b895"
  },
  "kernelspec": {
   "display_name": "Python 3.9.7 64-bit",
   "language": "python",
   "name": "python3"
  },
  "language_info": {
   "codemirror_mode": {
    "name": "ipython",
    "version": 3
   },
   "file_extension": ".py",
   "mimetype": "text/x-python",
   "name": "python",
   "nbconvert_exporter": "python",
   "pygments_lexer": "ipython3",
   "version": "3.9.7"
  },
  "orig_nbformat": 4
 },
 "nbformat": 4,
 "nbformat_minor": 2
}
